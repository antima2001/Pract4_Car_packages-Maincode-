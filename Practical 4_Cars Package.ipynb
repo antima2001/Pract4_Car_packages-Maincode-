{
 "cells": [
  {
   "cell_type": "code",
   "execution_count": 2,
   "id": "1fc014c3",
   "metadata": {},
   "outputs": [
    {
     "name": "stdout",
     "output_type": "stream",
     "text": [
      "These are the available models for BMW\n",
      "\ti8 \n",
      "\tx1 \n",
      "\tx5 \n",
      "\tx6 \n"
     ]
    }
   ],
   "source": [
    "from Cars_package import Audi, Bmw, Nissan\n",
    "from Cars_package import Bmw\n",
    "from Cars_package import Audi\n",
    "from Cars_package import Nissan\n",
    "#Create an object of Bmw class & call its method\n",
    "ModBMW = Bmw.Bmw()\n",
    "ModBMW.outModels()"
   ]
  },
  {
   "cell_type": "code",
   "execution_count": 4,
   "id": "03e4a8bc",
   "metadata": {},
   "outputs": [
    {
     "name": "stdout",
     "output_type": "stream",
     "text": [
      "These are the available models for Audi\n",
      "\tq7 \n",
      "\ta6 \n",
      "\ta8 \n",
      "\ta3 \n",
      "These are the available models for Nissan\n",
      "\taltima \n",
      "\t370z \n",
      "\tcube \n",
      "\trogue \n"
     ]
    }
   ],
   "source": [
    "# Create an object of Audi class & call its method\n",
    "ModAudi = Audi.Audi()\n",
    "ModAudi.outModels()\n",
    "  \n",
    "# Create an object of Nissan class & call its method\n",
    "ModNissan = Nissan.Nissan()\n",
    "ModNissan.outModels()"
   ]
  },
  {
   "cell_type": "code",
   "execution_count": null,
   "id": "3d0f9c7f",
   "metadata": {},
   "outputs": [],
   "source": []
  }
 ],
 "metadata": {
  "kernelspec": {
   "display_name": "Python 3 (ipykernel)",
   "language": "python",
   "name": "python3"
  },
  "language_info": {
   "codemirror_mode": {
    "name": "ipython",
    "version": 3
   },
   "file_extension": ".py",
   "mimetype": "text/x-python",
   "name": "python",
   "nbconvert_exporter": "python",
   "pygments_lexer": "ipython3",
   "version": "3.9.12"
  }
 },
 "nbformat": 4,
 "nbformat_minor": 5
}
